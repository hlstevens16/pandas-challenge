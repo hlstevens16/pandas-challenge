{
 "cells": [
  {
   "cell_type": "markdown",
   "metadata": {},
   "source": [
    "### Analysis\n",
    "#1. Charter schools out perform (have higher passing percentages than) district schools, as the top school performers by type are all charter and the bottom performers are all district. \n",
    "#2. Per student budget plays little role in performance (student passing percentage), as top school performers' per student budgets are less than bottom school performers' per student budgets. "
   ]
  },
  {
   "cell_type": "code",
   "execution_count": 1,
   "metadata": {},
   "outputs": [
    {
     "data": {
      "text/html": [
       "<div>\n",
       "<style scoped>\n",
       "    .dataframe tbody tr th:only-of-type {\n",
       "        vertical-align: middle;\n",
       "    }\n",
       "\n",
       "    .dataframe tbody tr th {\n",
       "        vertical-align: top;\n",
       "    }\n",
       "\n",
       "    .dataframe thead th {\n",
       "        text-align: right;\n",
       "    }\n",
       "</style>\n",
       "<table border=\"1\" class=\"dataframe\">\n",
       "  <thead>\n",
       "    <tr style=\"text-align: right;\">\n",
       "      <th></th>\n",
       "      <th>Student ID</th>\n",
       "      <th>student_name</th>\n",
       "      <th>gender</th>\n",
       "      <th>grade</th>\n",
       "      <th>school_name</th>\n",
       "      <th>reading_score</th>\n",
       "      <th>math_score</th>\n",
       "      <th>School ID</th>\n",
       "      <th>type</th>\n",
       "      <th>size</th>\n",
       "      <th>budget</th>\n",
       "    </tr>\n",
       "  </thead>\n",
       "  <tbody>\n",
       "    <tr>\n",
       "      <th>0</th>\n",
       "      <td>0</td>\n",
       "      <td>Paul Bradley</td>\n",
       "      <td>M</td>\n",
       "      <td>9th</td>\n",
       "      <td>Huang High School</td>\n",
       "      <td>66</td>\n",
       "      <td>79</td>\n",
       "      <td>0</td>\n",
       "      <td>District</td>\n",
       "      <td>2917</td>\n",
       "      <td>1910635</td>\n",
       "    </tr>\n",
       "    <tr>\n",
       "      <th>1</th>\n",
       "      <td>1</td>\n",
       "      <td>Victor Smith</td>\n",
       "      <td>M</td>\n",
       "      <td>12th</td>\n",
       "      <td>Huang High School</td>\n",
       "      <td>94</td>\n",
       "      <td>61</td>\n",
       "      <td>0</td>\n",
       "      <td>District</td>\n",
       "      <td>2917</td>\n",
       "      <td>1910635</td>\n",
       "    </tr>\n",
       "    <tr>\n",
       "      <th>2</th>\n",
       "      <td>2</td>\n",
       "      <td>Kevin Rodriguez</td>\n",
       "      <td>M</td>\n",
       "      <td>12th</td>\n",
       "      <td>Huang High School</td>\n",
       "      <td>90</td>\n",
       "      <td>60</td>\n",
       "      <td>0</td>\n",
       "      <td>District</td>\n",
       "      <td>2917</td>\n",
       "      <td>1910635</td>\n",
       "    </tr>\n",
       "    <tr>\n",
       "      <th>3</th>\n",
       "      <td>3</td>\n",
       "      <td>Dr. Richard Scott</td>\n",
       "      <td>M</td>\n",
       "      <td>12th</td>\n",
       "      <td>Huang High School</td>\n",
       "      <td>67</td>\n",
       "      <td>58</td>\n",
       "      <td>0</td>\n",
       "      <td>District</td>\n",
       "      <td>2917</td>\n",
       "      <td>1910635</td>\n",
       "    </tr>\n",
       "    <tr>\n",
       "      <th>4</th>\n",
       "      <td>4</td>\n",
       "      <td>Bonnie Ray</td>\n",
       "      <td>F</td>\n",
       "      <td>9th</td>\n",
       "      <td>Huang High School</td>\n",
       "      <td>97</td>\n",
       "      <td>84</td>\n",
       "      <td>0</td>\n",
       "      <td>District</td>\n",
       "      <td>2917</td>\n",
       "      <td>1910635</td>\n",
       "    </tr>\n",
       "  </tbody>\n",
       "</table>\n",
       "</div>"
      ],
      "text/plain": [
       "   Student ID       student_name gender grade        school_name  \\\n",
       "0           0       Paul Bradley      M   9th  Huang High School   \n",
       "1           1       Victor Smith      M  12th  Huang High School   \n",
       "2           2    Kevin Rodriguez      M  12th  Huang High School   \n",
       "3           3  Dr. Richard Scott      M  12th  Huang High School   \n",
       "4           4         Bonnie Ray      F   9th  Huang High School   \n",
       "\n",
       "   reading_score  math_score  School ID      type  size   budget  \n",
       "0             66          79          0  District  2917  1910635  \n",
       "1             94          61          0  District  2917  1910635  \n",
       "2             90          60          0  District  2917  1910635  \n",
       "3             67          58          0  District  2917  1910635  \n",
       "4             97          84          0  District  2917  1910635  "
      ]
     },
     "execution_count": 1,
     "metadata": {},
     "output_type": "execute_result"
    }
   ],
   "source": [
    "# Dependencies and Setup\n",
    "import pandas as pd\n",
    "\n",
    "# File to Load (Remember to Change These)\n",
    "school_data_to_load = \"Resources/schools_complete.csv\"\n",
    "student_data_to_load = \"Resources/students_complete.csv\"\n",
    "\n",
    "# Read School and Student Data File and store into Pandas DataFrames\n",
    "school_data = pd.read_csv(school_data_to_load)\n",
    "student_data = pd.read_csv(student_data_to_load)\n",
    "\n",
    "# Combine the data into a single dataset.  \n",
    "school_data_complete = pd.merge(student_data, school_data, how=\"left\", on=[\"school_name\", \"school_name\"])\n",
    "school_data_complete.head()"
   ]
  },
  {
   "cell_type": "markdown",
   "metadata": {},
   "source": [
    "## District Summary\n",
    "\n",
    "* Calculate the total number of schools\n",
    "\n",
    "* Calculate the total number of students\n",
    "\n",
    "* Calculate the total budget\n",
    "\n",
    "* Calculate the average math score \n",
    "\n",
    "* Calculate the average reading score\n",
    "\n",
    "* Calculate the percentage of students with a passing math score (70 or greater)\n",
    "\n",
    "* Calculate the percentage of students with a passing reading score (70 or greater)\n",
    "\n",
    "* Calculate the percentage of students who passed math **and** reading (% Overall Passing)\n",
    "\n",
    "* Create a dataframe to hold the above results\n",
    "\n",
    "* Optional: give the displayed data cleaner formatting"
   ]
  },
  {
   "cell_type": "code",
   "execution_count": 2,
   "metadata": {},
   "outputs": [
    {
     "data": {
      "text/plain": [
       "15"
      ]
     },
     "execution_count": 2,
     "metadata": {},
     "output_type": "execute_result"
    }
   ],
   "source": [
    "total_schools = len(school_data_complete[\"school_name\"].unique())\n",
    "total_schools"
   ]
  },
  {
   "cell_type": "code",
   "execution_count": 3,
   "metadata": {},
   "outputs": [
    {
     "data": {
      "text/plain": [
       "39170"
      ]
     },
     "execution_count": 3,
     "metadata": {},
     "output_type": "execute_result"
    }
   ],
   "source": [
    "total_students = len(school_data_complete[\"Student ID\"])\n",
    "total_students"
   ]
  },
  {
   "cell_type": "code",
   "execution_count": 4,
   "metadata": {},
   "outputs": [
    {
     "data": {
      "text/plain": [
       "24649428.0"
      ]
     },
     "execution_count": 4,
     "metadata": {},
     "output_type": "execute_result"
    }
   ],
   "source": [
    "total_budget = float(school_data[\"budget\"].sum())\n",
    "total_budget"
   ]
  },
  {
   "cell_type": "code",
   "execution_count": 5,
   "metadata": {},
   "outputs": [
    {
     "data": {
      "text/plain": [
       "78.98537145774827"
      ]
     },
     "execution_count": 5,
     "metadata": {},
     "output_type": "execute_result"
    }
   ],
   "source": [
    "avg_math_score = float(school_data_complete[\"math_score\"].mean())\n",
    "avg_math_score"
   ]
  },
  {
   "cell_type": "code",
   "execution_count": 6,
   "metadata": {},
   "outputs": [
    {
     "data": {
      "text/plain": [
       "81.87784018381414"
      ]
     },
     "execution_count": 6,
     "metadata": {},
     "output_type": "execute_result"
    }
   ],
   "source": [
    "avg_reading_score = float(school_data_complete[\"reading_score\"].mean())\n",
    "avg_reading_score"
   ]
  },
  {
   "cell_type": "code",
   "execution_count": 7,
   "metadata": {},
   "outputs": [
    {
     "data": {
      "text/plain": [
       "74.9808526933878"
      ]
     },
     "execution_count": 7,
     "metadata": {},
     "output_type": "execute_result"
    }
   ],
   "source": [
    "students_passing_math = len(school_data_complete.loc[school_data_complete[\"math_score\"] >= 70][\"Student ID\"])\n",
    "percent_passing_math = float(students_passing_math / total_students * 100)\n",
    "percent_passing_math"
   ]
  },
  {
   "cell_type": "code",
   "execution_count": 8,
   "metadata": {},
   "outputs": [
    {
     "data": {
      "text/plain": [
       "85.80546336482001"
      ]
     },
     "execution_count": 8,
     "metadata": {},
     "output_type": "execute_result"
    }
   ],
   "source": [
    "students_passing_reading = len(school_data_complete.loc[school_data_complete[\"reading_score\"] >= 70][\"Student ID\"])\n",
    "percent_passing_reading = float(students_passing_reading / total_students * 100)\n",
    "percent_passing_reading"
   ]
  },
  {
   "cell_type": "code",
   "execution_count": 9,
   "metadata": {},
   "outputs": [
    {
     "data": {
      "text/plain": [
       "65.17232575950983"
      ]
     },
     "execution_count": 9,
     "metadata": {},
     "output_type": "execute_result"
    }
   ],
   "source": [
    "overall_passing = school_data_complete[(school_data_complete[\"math_score\"] >= 70) & (school_data_complete[\"reading_score\"] >= 70)][\"Student ID\"].count()\n",
    "percent_overall = float(overall_passing / total_students * 100)\n",
    "percent_overall"
   ]
  },
  {
   "cell_type": "code",
   "execution_count": 10,
   "metadata": {},
   "outputs": [
    {
     "data": {
      "text/html": [
       "<div>\n",
       "<style scoped>\n",
       "    .dataframe tbody tr th:only-of-type {\n",
       "        vertical-align: middle;\n",
       "    }\n",
       "\n",
       "    .dataframe tbody tr th {\n",
       "        vertical-align: top;\n",
       "    }\n",
       "\n",
       "    .dataframe thead th {\n",
       "        text-align: right;\n",
       "    }\n",
       "</style>\n",
       "<table border=\"1\" class=\"dataframe\">\n",
       "  <thead>\n",
       "    <tr style=\"text-align: right;\">\n",
       "      <th></th>\n",
       "      <th>Total Schools</th>\n",
       "      <th>Total Students</th>\n",
       "      <th>Total Budget</th>\n",
       "      <th>Average Math Score</th>\n",
       "      <th>Average Reading Score</th>\n",
       "      <th>% Passing Math</th>\n",
       "      <th>% Passing Reading</th>\n",
       "      <th>% Overall Passing</th>\n",
       "    </tr>\n",
       "  </thead>\n",
       "  <tbody>\n",
       "    <tr>\n",
       "      <th>0</th>\n",
       "      <td>15</td>\n",
       "      <td>39,170</td>\n",
       "      <td>$ 24,649,428.00</td>\n",
       "      <td>78.985371</td>\n",
       "      <td>81.87784</td>\n",
       "      <td>74.980853</td>\n",
       "      <td>85.805463</td>\n",
       "      <td>65.172326</td>\n",
       "    </tr>\n",
       "  </tbody>\n",
       "</table>\n",
       "</div>"
      ],
      "text/plain": [
       "   Total Schools Total Students     Total Budget  Average Math Score  \\\n",
       "0             15         39,170  $ 24,649,428.00           78.985371   \n",
       "\n",
       "   Average Reading Score  % Passing Math  % Passing Reading  % Overall Passing  \n",
       "0               81.87784       74.980853          85.805463          65.172326  "
      ]
     },
     "execution_count": 10,
     "metadata": {},
     "output_type": "execute_result"
    }
   ],
   "source": [
    "#pulling it all into a new dataframe\n",
    "district_summary_df = pd.DataFrame({\"Total Schools\":total_schools, \n",
    "                                    \"Total Students\":total_students,\n",
    "                                    \"Total Budget\":total_budget,\n",
    "                                    \"Average Math Score\":avg_math_score,\n",
    "                                    \"Average Reading Score\":avg_reading_score, \n",
    "                                    \"% Passing Math\":percent_passing_math,\n",
    "                                    \"% Passing Reading\":percent_passing_reading, \n",
    "                                    \"% Overall Passing\": percent_overall}, index=[0])\n",
    "\n",
    "#formatting\n",
    "district_summary_df[\"Total Students\"] = district_summary_df[\"Total Students\"].map(\"{:,}\".format)\n",
    "district_summary_df[\"Total Budget\"] = district_summary_df[\"Total Budget\"].map(\"$ {:,.2f}\".format)\n",
    "\n",
    "district_summary_df"
   ]
  },
  {
   "cell_type": "markdown",
   "metadata": {},
   "source": [
    "## School Summary"
   ]
  },
  {
   "cell_type": "markdown",
   "metadata": {},
   "source": [
    "* Create an overview table that summarizes key metrics about each school, including:\n",
    "  * School Name\n",
    "  * School Type\n",
    "  * Total Students\n",
    "  * Total School Budget\n",
    "  * Per Student Budget\n",
    "  * Average Math Score\n",
    "  * Average Reading Score\n",
    "  * % Passing Math\n",
    "  * % Passing Reading\n",
    "  * % Overall Passing (The percentage of students that passed math **and** reading.)\n",
    "  \n",
    "* Create a dataframe to hold the above results"
   ]
  },
  {
   "cell_type": "code",
   "execution_count": 11,
   "metadata": {
    "scrolled": true
   },
   "outputs": [
    {
     "data": {
      "text/html": [
       "<style  type=\"text/css\" >\n",
       "</style><table id=\"T_bc990906_e546_11ea_ad3a_14f6d8ece4ff\" ><thead>    <tr>        <th class=\"blank level0\" ></th>        <th class=\"col_heading level0 col0\" >School Type</th>        <th class=\"col_heading level0 col1\" >Total Students</th>        <th class=\"col_heading level0 col2\" >Total School Budget</th>        <th class=\"col_heading level0 col3\" >Per Student Budget</th>        <th class=\"col_heading level0 col4\" >Average Math Score</th>        <th class=\"col_heading level0 col5\" >Average Reading Score</th>        <th class=\"col_heading level0 col6\" >% Passing Math</th>        <th class=\"col_heading level0 col7\" >% Passing Reading</th>        <th class=\"col_heading level0 col8\" >Overall Passing Rate</th>    </tr></thead><tbody>\n",
       "                <tr>\n",
       "                        <th id=\"T_bc990906_e546_11ea_ad3a_14f6d8ece4fflevel0_row0\" class=\"row_heading level0 row0\" >Bailey High School</th>\n",
       "                        <td id=\"T_bc990906_e546_11ea_ad3a_14f6d8ece4ffrow0_col0\" class=\"data row0 col0\" >District</td>\n",
       "                        <td id=\"T_bc990906_e546_11ea_ad3a_14f6d8ece4ffrow0_col1\" class=\"data row0 col1\" >4,976</td>\n",
       "                        <td id=\"T_bc990906_e546_11ea_ad3a_14f6d8ece4ffrow0_col2\" class=\"data row0 col2\" >$3,124,928</td>\n",
       "                        <td id=\"T_bc990906_e546_11ea_ad3a_14f6d8ece4ffrow0_col3\" class=\"data row0 col3\" >$628</td>\n",
       "                        <td id=\"T_bc990906_e546_11ea_ad3a_14f6d8ece4ffrow0_col4\" class=\"data row0 col4\" >77.048432</td>\n",
       "                        <td id=\"T_bc990906_e546_11ea_ad3a_14f6d8ece4ffrow0_col5\" class=\"data row0 col5\" >81.033963</td>\n",
       "                        <td id=\"T_bc990906_e546_11ea_ad3a_14f6d8ece4ffrow0_col6\" class=\"data row0 col6\" >66.680064</td>\n",
       "                        <td id=\"T_bc990906_e546_11ea_ad3a_14f6d8ece4ffrow0_col7\" class=\"data row0 col7\" >81.933280</td>\n",
       "                        <td id=\"T_bc990906_e546_11ea_ad3a_14f6d8ece4ffrow0_col8\" class=\"data row0 col8\" >54.642283</td>\n",
       "            </tr>\n",
       "            <tr>\n",
       "                        <th id=\"T_bc990906_e546_11ea_ad3a_14f6d8ece4fflevel0_row1\" class=\"row_heading level0 row1\" >Cabrera High School</th>\n",
       "                        <td id=\"T_bc990906_e546_11ea_ad3a_14f6d8ece4ffrow1_col0\" class=\"data row1 col0\" >Charter</td>\n",
       "                        <td id=\"T_bc990906_e546_11ea_ad3a_14f6d8ece4ffrow1_col1\" class=\"data row1 col1\" >1,858</td>\n",
       "                        <td id=\"T_bc990906_e546_11ea_ad3a_14f6d8ece4ffrow1_col2\" class=\"data row1 col2\" >$1,081,356</td>\n",
       "                        <td id=\"T_bc990906_e546_11ea_ad3a_14f6d8ece4ffrow1_col3\" class=\"data row1 col3\" >$582</td>\n",
       "                        <td id=\"T_bc990906_e546_11ea_ad3a_14f6d8ece4ffrow1_col4\" class=\"data row1 col4\" >83.061895</td>\n",
       "                        <td id=\"T_bc990906_e546_11ea_ad3a_14f6d8ece4ffrow1_col5\" class=\"data row1 col5\" >83.975780</td>\n",
       "                        <td id=\"T_bc990906_e546_11ea_ad3a_14f6d8ece4ffrow1_col6\" class=\"data row1 col6\" >94.133477</td>\n",
       "                        <td id=\"T_bc990906_e546_11ea_ad3a_14f6d8ece4ffrow1_col7\" class=\"data row1 col7\" >97.039828</td>\n",
       "                        <td id=\"T_bc990906_e546_11ea_ad3a_14f6d8ece4ffrow1_col8\" class=\"data row1 col8\" >91.334769</td>\n",
       "            </tr>\n",
       "            <tr>\n",
       "                        <th id=\"T_bc990906_e546_11ea_ad3a_14f6d8ece4fflevel0_row2\" class=\"row_heading level0 row2\" >Figueroa High School</th>\n",
       "                        <td id=\"T_bc990906_e546_11ea_ad3a_14f6d8ece4ffrow2_col0\" class=\"data row2 col0\" >District</td>\n",
       "                        <td id=\"T_bc990906_e546_11ea_ad3a_14f6d8ece4ffrow2_col1\" class=\"data row2 col1\" >2,949</td>\n",
       "                        <td id=\"T_bc990906_e546_11ea_ad3a_14f6d8ece4ffrow2_col2\" class=\"data row2 col2\" >$1,884,411</td>\n",
       "                        <td id=\"T_bc990906_e546_11ea_ad3a_14f6d8ece4ffrow2_col3\" class=\"data row2 col3\" >$639</td>\n",
       "                        <td id=\"T_bc990906_e546_11ea_ad3a_14f6d8ece4ffrow2_col4\" class=\"data row2 col4\" >76.711767</td>\n",
       "                        <td id=\"T_bc990906_e546_11ea_ad3a_14f6d8ece4ffrow2_col5\" class=\"data row2 col5\" >81.158020</td>\n",
       "                        <td id=\"T_bc990906_e546_11ea_ad3a_14f6d8ece4ffrow2_col6\" class=\"data row2 col6\" >65.988471</td>\n",
       "                        <td id=\"T_bc990906_e546_11ea_ad3a_14f6d8ece4ffrow2_col7\" class=\"data row2 col7\" >80.739234</td>\n",
       "                        <td id=\"T_bc990906_e546_11ea_ad3a_14f6d8ece4ffrow2_col8\" class=\"data row2 col8\" >53.204476</td>\n",
       "            </tr>\n",
       "            <tr>\n",
       "                        <th id=\"T_bc990906_e546_11ea_ad3a_14f6d8ece4fflevel0_row3\" class=\"row_heading level0 row3\" >Ford High School</th>\n",
       "                        <td id=\"T_bc990906_e546_11ea_ad3a_14f6d8ece4ffrow3_col0\" class=\"data row3 col0\" >District</td>\n",
       "                        <td id=\"T_bc990906_e546_11ea_ad3a_14f6d8ece4ffrow3_col1\" class=\"data row3 col1\" >2,739</td>\n",
       "                        <td id=\"T_bc990906_e546_11ea_ad3a_14f6d8ece4ffrow3_col2\" class=\"data row3 col2\" >$1,763,916</td>\n",
       "                        <td id=\"T_bc990906_e546_11ea_ad3a_14f6d8ece4ffrow3_col3\" class=\"data row3 col3\" >$644</td>\n",
       "                        <td id=\"T_bc990906_e546_11ea_ad3a_14f6d8ece4ffrow3_col4\" class=\"data row3 col4\" >77.102592</td>\n",
       "                        <td id=\"T_bc990906_e546_11ea_ad3a_14f6d8ece4ffrow3_col5\" class=\"data row3 col5\" >80.746258</td>\n",
       "                        <td id=\"T_bc990906_e546_11ea_ad3a_14f6d8ece4ffrow3_col6\" class=\"data row3 col6\" >68.309602</td>\n",
       "                        <td id=\"T_bc990906_e546_11ea_ad3a_14f6d8ece4ffrow3_col7\" class=\"data row3 col7\" >79.299014</td>\n",
       "                        <td id=\"T_bc990906_e546_11ea_ad3a_14f6d8ece4ffrow3_col8\" class=\"data row3 col8\" >54.289887</td>\n",
       "            </tr>\n",
       "            <tr>\n",
       "                        <th id=\"T_bc990906_e546_11ea_ad3a_14f6d8ece4fflevel0_row4\" class=\"row_heading level0 row4\" >Griffin High School</th>\n",
       "                        <td id=\"T_bc990906_e546_11ea_ad3a_14f6d8ece4ffrow4_col0\" class=\"data row4 col0\" >Charter</td>\n",
       "                        <td id=\"T_bc990906_e546_11ea_ad3a_14f6d8ece4ffrow4_col1\" class=\"data row4 col1\" >1,468</td>\n",
       "                        <td id=\"T_bc990906_e546_11ea_ad3a_14f6d8ece4ffrow4_col2\" class=\"data row4 col2\" >$917,500</td>\n",
       "                        <td id=\"T_bc990906_e546_11ea_ad3a_14f6d8ece4ffrow4_col3\" class=\"data row4 col3\" >$625</td>\n",
       "                        <td id=\"T_bc990906_e546_11ea_ad3a_14f6d8ece4ffrow4_col4\" class=\"data row4 col4\" >83.351499</td>\n",
       "                        <td id=\"T_bc990906_e546_11ea_ad3a_14f6d8ece4ffrow4_col5\" class=\"data row4 col5\" >83.816757</td>\n",
       "                        <td id=\"T_bc990906_e546_11ea_ad3a_14f6d8ece4ffrow4_col6\" class=\"data row4 col6\" >93.392371</td>\n",
       "                        <td id=\"T_bc990906_e546_11ea_ad3a_14f6d8ece4ffrow4_col7\" class=\"data row4 col7\" >97.138965</td>\n",
       "                        <td id=\"T_bc990906_e546_11ea_ad3a_14f6d8ece4ffrow4_col8\" class=\"data row4 col8\" >90.599455</td>\n",
       "            </tr>\n",
       "            <tr>\n",
       "                        <th id=\"T_bc990906_e546_11ea_ad3a_14f6d8ece4fflevel0_row5\" class=\"row_heading level0 row5\" >Hernandez High School</th>\n",
       "                        <td id=\"T_bc990906_e546_11ea_ad3a_14f6d8ece4ffrow5_col0\" class=\"data row5 col0\" >District</td>\n",
       "                        <td id=\"T_bc990906_e546_11ea_ad3a_14f6d8ece4ffrow5_col1\" class=\"data row5 col1\" >4,635</td>\n",
       "                        <td id=\"T_bc990906_e546_11ea_ad3a_14f6d8ece4ffrow5_col2\" class=\"data row5 col2\" >$3,022,020</td>\n",
       "                        <td id=\"T_bc990906_e546_11ea_ad3a_14f6d8ece4ffrow5_col3\" class=\"data row5 col3\" >$652</td>\n",
       "                        <td id=\"T_bc990906_e546_11ea_ad3a_14f6d8ece4ffrow5_col4\" class=\"data row5 col4\" >77.289752</td>\n",
       "                        <td id=\"T_bc990906_e546_11ea_ad3a_14f6d8ece4ffrow5_col5\" class=\"data row5 col5\" >80.934412</td>\n",
       "                        <td id=\"T_bc990906_e546_11ea_ad3a_14f6d8ece4ffrow5_col6\" class=\"data row5 col6\" >66.752967</td>\n",
       "                        <td id=\"T_bc990906_e546_11ea_ad3a_14f6d8ece4ffrow5_col7\" class=\"data row5 col7\" >80.862999</td>\n",
       "                        <td id=\"T_bc990906_e546_11ea_ad3a_14f6d8ece4ffrow5_col8\" class=\"data row5 col8\" >53.527508</td>\n",
       "            </tr>\n",
       "            <tr>\n",
       "                        <th id=\"T_bc990906_e546_11ea_ad3a_14f6d8ece4fflevel0_row6\" class=\"row_heading level0 row6\" >Holden High School</th>\n",
       "                        <td id=\"T_bc990906_e546_11ea_ad3a_14f6d8ece4ffrow6_col0\" class=\"data row6 col0\" >Charter</td>\n",
       "                        <td id=\"T_bc990906_e546_11ea_ad3a_14f6d8ece4ffrow6_col1\" class=\"data row6 col1\" >427</td>\n",
       "                        <td id=\"T_bc990906_e546_11ea_ad3a_14f6d8ece4ffrow6_col2\" class=\"data row6 col2\" >$248,087</td>\n",
       "                        <td id=\"T_bc990906_e546_11ea_ad3a_14f6d8ece4ffrow6_col3\" class=\"data row6 col3\" >$581</td>\n",
       "                        <td id=\"T_bc990906_e546_11ea_ad3a_14f6d8ece4ffrow6_col4\" class=\"data row6 col4\" >83.803279</td>\n",
       "                        <td id=\"T_bc990906_e546_11ea_ad3a_14f6d8ece4ffrow6_col5\" class=\"data row6 col5\" >83.814988</td>\n",
       "                        <td id=\"T_bc990906_e546_11ea_ad3a_14f6d8ece4ffrow6_col6\" class=\"data row6 col6\" >92.505855</td>\n",
       "                        <td id=\"T_bc990906_e546_11ea_ad3a_14f6d8ece4ffrow6_col7\" class=\"data row6 col7\" >96.252927</td>\n",
       "                        <td id=\"T_bc990906_e546_11ea_ad3a_14f6d8ece4ffrow6_col8\" class=\"data row6 col8\" >89.227166</td>\n",
       "            </tr>\n",
       "            <tr>\n",
       "                        <th id=\"T_bc990906_e546_11ea_ad3a_14f6d8ece4fflevel0_row7\" class=\"row_heading level0 row7\" >Huang High School</th>\n",
       "                        <td id=\"T_bc990906_e546_11ea_ad3a_14f6d8ece4ffrow7_col0\" class=\"data row7 col0\" >District</td>\n",
       "                        <td id=\"T_bc990906_e546_11ea_ad3a_14f6d8ece4ffrow7_col1\" class=\"data row7 col1\" >2,917</td>\n",
       "                        <td id=\"T_bc990906_e546_11ea_ad3a_14f6d8ece4ffrow7_col2\" class=\"data row7 col2\" >$1,910,635</td>\n",
       "                        <td id=\"T_bc990906_e546_11ea_ad3a_14f6d8ece4ffrow7_col3\" class=\"data row7 col3\" >$655</td>\n",
       "                        <td id=\"T_bc990906_e546_11ea_ad3a_14f6d8ece4ffrow7_col4\" class=\"data row7 col4\" >76.629414</td>\n",
       "                        <td id=\"T_bc990906_e546_11ea_ad3a_14f6d8ece4ffrow7_col5\" class=\"data row7 col5\" >81.182722</td>\n",
       "                        <td id=\"T_bc990906_e546_11ea_ad3a_14f6d8ece4ffrow7_col6\" class=\"data row7 col6\" >65.683922</td>\n",
       "                        <td id=\"T_bc990906_e546_11ea_ad3a_14f6d8ece4ffrow7_col7\" class=\"data row7 col7\" >81.316421</td>\n",
       "                        <td id=\"T_bc990906_e546_11ea_ad3a_14f6d8ece4ffrow7_col8\" class=\"data row7 col8\" >53.513884</td>\n",
       "            </tr>\n",
       "            <tr>\n",
       "                        <th id=\"T_bc990906_e546_11ea_ad3a_14f6d8ece4fflevel0_row8\" class=\"row_heading level0 row8\" >Johnson High School</th>\n",
       "                        <td id=\"T_bc990906_e546_11ea_ad3a_14f6d8ece4ffrow8_col0\" class=\"data row8 col0\" >District</td>\n",
       "                        <td id=\"T_bc990906_e546_11ea_ad3a_14f6d8ece4ffrow8_col1\" class=\"data row8 col1\" >4,761</td>\n",
       "                        <td id=\"T_bc990906_e546_11ea_ad3a_14f6d8ece4ffrow8_col2\" class=\"data row8 col2\" >$3,094,650</td>\n",
       "                        <td id=\"T_bc990906_e546_11ea_ad3a_14f6d8ece4ffrow8_col3\" class=\"data row8 col3\" >$650</td>\n",
       "                        <td id=\"T_bc990906_e546_11ea_ad3a_14f6d8ece4ffrow8_col4\" class=\"data row8 col4\" >77.072464</td>\n",
       "                        <td id=\"T_bc990906_e546_11ea_ad3a_14f6d8ece4ffrow8_col5\" class=\"data row8 col5\" >80.966394</td>\n",
       "                        <td id=\"T_bc990906_e546_11ea_ad3a_14f6d8ece4ffrow8_col6\" class=\"data row8 col6\" >66.057551</td>\n",
       "                        <td id=\"T_bc990906_e546_11ea_ad3a_14f6d8ece4ffrow8_col7\" class=\"data row8 col7\" >81.222432</td>\n",
       "                        <td id=\"T_bc990906_e546_11ea_ad3a_14f6d8ece4ffrow8_col8\" class=\"data row8 col8\" >53.539172</td>\n",
       "            </tr>\n",
       "            <tr>\n",
       "                        <th id=\"T_bc990906_e546_11ea_ad3a_14f6d8ece4fflevel0_row9\" class=\"row_heading level0 row9\" >Pena High School</th>\n",
       "                        <td id=\"T_bc990906_e546_11ea_ad3a_14f6d8ece4ffrow9_col0\" class=\"data row9 col0\" >Charter</td>\n",
       "                        <td id=\"T_bc990906_e546_11ea_ad3a_14f6d8ece4ffrow9_col1\" class=\"data row9 col1\" >962</td>\n",
       "                        <td id=\"T_bc990906_e546_11ea_ad3a_14f6d8ece4ffrow9_col2\" class=\"data row9 col2\" >$585,858</td>\n",
       "                        <td id=\"T_bc990906_e546_11ea_ad3a_14f6d8ece4ffrow9_col3\" class=\"data row9 col3\" >$609</td>\n",
       "                        <td id=\"T_bc990906_e546_11ea_ad3a_14f6d8ece4ffrow9_col4\" class=\"data row9 col4\" >83.839917</td>\n",
       "                        <td id=\"T_bc990906_e546_11ea_ad3a_14f6d8ece4ffrow9_col5\" class=\"data row9 col5\" >84.044699</td>\n",
       "                        <td id=\"T_bc990906_e546_11ea_ad3a_14f6d8ece4ffrow9_col6\" class=\"data row9 col6\" >94.594595</td>\n",
       "                        <td id=\"T_bc990906_e546_11ea_ad3a_14f6d8ece4ffrow9_col7\" class=\"data row9 col7\" >95.945946</td>\n",
       "                        <td id=\"T_bc990906_e546_11ea_ad3a_14f6d8ece4ffrow9_col8\" class=\"data row9 col8\" >90.540541</td>\n",
       "            </tr>\n",
       "            <tr>\n",
       "                        <th id=\"T_bc990906_e546_11ea_ad3a_14f6d8ece4fflevel0_row10\" class=\"row_heading level0 row10\" >Rodriguez High School</th>\n",
       "                        <td id=\"T_bc990906_e546_11ea_ad3a_14f6d8ece4ffrow10_col0\" class=\"data row10 col0\" >District</td>\n",
       "                        <td id=\"T_bc990906_e546_11ea_ad3a_14f6d8ece4ffrow10_col1\" class=\"data row10 col1\" >3,999</td>\n",
       "                        <td id=\"T_bc990906_e546_11ea_ad3a_14f6d8ece4ffrow10_col2\" class=\"data row10 col2\" >$2,547,363</td>\n",
       "                        <td id=\"T_bc990906_e546_11ea_ad3a_14f6d8ece4ffrow10_col3\" class=\"data row10 col3\" >$637</td>\n",
       "                        <td id=\"T_bc990906_e546_11ea_ad3a_14f6d8ece4ffrow10_col4\" class=\"data row10 col4\" >76.842711</td>\n",
       "                        <td id=\"T_bc990906_e546_11ea_ad3a_14f6d8ece4ffrow10_col5\" class=\"data row10 col5\" >80.744686</td>\n",
       "                        <td id=\"T_bc990906_e546_11ea_ad3a_14f6d8ece4ffrow10_col6\" class=\"data row10 col6\" >66.366592</td>\n",
       "                        <td id=\"T_bc990906_e546_11ea_ad3a_14f6d8ece4ffrow10_col7\" class=\"data row10 col7\" >80.220055</td>\n",
       "                        <td id=\"T_bc990906_e546_11ea_ad3a_14f6d8ece4ffrow10_col8\" class=\"data row10 col8\" >52.988247</td>\n",
       "            </tr>\n",
       "            <tr>\n",
       "                        <th id=\"T_bc990906_e546_11ea_ad3a_14f6d8ece4fflevel0_row11\" class=\"row_heading level0 row11\" >Shelton High School</th>\n",
       "                        <td id=\"T_bc990906_e546_11ea_ad3a_14f6d8ece4ffrow11_col0\" class=\"data row11 col0\" >Charter</td>\n",
       "                        <td id=\"T_bc990906_e546_11ea_ad3a_14f6d8ece4ffrow11_col1\" class=\"data row11 col1\" >1,761</td>\n",
       "                        <td id=\"T_bc990906_e546_11ea_ad3a_14f6d8ece4ffrow11_col2\" class=\"data row11 col2\" >$1,056,600</td>\n",
       "                        <td id=\"T_bc990906_e546_11ea_ad3a_14f6d8ece4ffrow11_col3\" class=\"data row11 col3\" >$600</td>\n",
       "                        <td id=\"T_bc990906_e546_11ea_ad3a_14f6d8ece4ffrow11_col4\" class=\"data row11 col4\" >83.359455</td>\n",
       "                        <td id=\"T_bc990906_e546_11ea_ad3a_14f6d8ece4ffrow11_col5\" class=\"data row11 col5\" >83.725724</td>\n",
       "                        <td id=\"T_bc990906_e546_11ea_ad3a_14f6d8ece4ffrow11_col6\" class=\"data row11 col6\" >93.867121</td>\n",
       "                        <td id=\"T_bc990906_e546_11ea_ad3a_14f6d8ece4ffrow11_col7\" class=\"data row11 col7\" >95.854628</td>\n",
       "                        <td id=\"T_bc990906_e546_11ea_ad3a_14f6d8ece4ffrow11_col8\" class=\"data row11 col8\" >89.892107</td>\n",
       "            </tr>\n",
       "            <tr>\n",
       "                        <th id=\"T_bc990906_e546_11ea_ad3a_14f6d8ece4fflevel0_row12\" class=\"row_heading level0 row12\" >Thomas High School</th>\n",
       "                        <td id=\"T_bc990906_e546_11ea_ad3a_14f6d8ece4ffrow12_col0\" class=\"data row12 col0\" >Charter</td>\n",
       "                        <td id=\"T_bc990906_e546_11ea_ad3a_14f6d8ece4ffrow12_col1\" class=\"data row12 col1\" >1,635</td>\n",
       "                        <td id=\"T_bc990906_e546_11ea_ad3a_14f6d8ece4ffrow12_col2\" class=\"data row12 col2\" >$1,043,130</td>\n",
       "                        <td id=\"T_bc990906_e546_11ea_ad3a_14f6d8ece4ffrow12_col3\" class=\"data row12 col3\" >$638</td>\n",
       "                        <td id=\"T_bc990906_e546_11ea_ad3a_14f6d8ece4ffrow12_col4\" class=\"data row12 col4\" >83.418349</td>\n",
       "                        <td id=\"T_bc990906_e546_11ea_ad3a_14f6d8ece4ffrow12_col5\" class=\"data row12 col5\" >83.848930</td>\n",
       "                        <td id=\"T_bc990906_e546_11ea_ad3a_14f6d8ece4ffrow12_col6\" class=\"data row12 col6\" >93.272171</td>\n",
       "                        <td id=\"T_bc990906_e546_11ea_ad3a_14f6d8ece4ffrow12_col7\" class=\"data row12 col7\" >97.308869</td>\n",
       "                        <td id=\"T_bc990906_e546_11ea_ad3a_14f6d8ece4ffrow12_col8\" class=\"data row12 col8\" >90.948012</td>\n",
       "            </tr>\n",
       "            <tr>\n",
       "                        <th id=\"T_bc990906_e546_11ea_ad3a_14f6d8ece4fflevel0_row13\" class=\"row_heading level0 row13\" >Wilson High School</th>\n",
       "                        <td id=\"T_bc990906_e546_11ea_ad3a_14f6d8ece4ffrow13_col0\" class=\"data row13 col0\" >Charter</td>\n",
       "                        <td id=\"T_bc990906_e546_11ea_ad3a_14f6d8ece4ffrow13_col1\" class=\"data row13 col1\" >2,283</td>\n",
       "                        <td id=\"T_bc990906_e546_11ea_ad3a_14f6d8ece4ffrow13_col2\" class=\"data row13 col2\" >$1,319,574</td>\n",
       "                        <td id=\"T_bc990906_e546_11ea_ad3a_14f6d8ece4ffrow13_col3\" class=\"data row13 col3\" >$578</td>\n",
       "                        <td id=\"T_bc990906_e546_11ea_ad3a_14f6d8ece4ffrow13_col4\" class=\"data row13 col4\" >83.274201</td>\n",
       "                        <td id=\"T_bc990906_e546_11ea_ad3a_14f6d8ece4ffrow13_col5\" class=\"data row13 col5\" >83.989488</td>\n",
       "                        <td id=\"T_bc990906_e546_11ea_ad3a_14f6d8ece4ffrow13_col6\" class=\"data row13 col6\" >93.867718</td>\n",
       "                        <td id=\"T_bc990906_e546_11ea_ad3a_14f6d8ece4ffrow13_col7\" class=\"data row13 col7\" >96.539641</td>\n",
       "                        <td id=\"T_bc990906_e546_11ea_ad3a_14f6d8ece4ffrow13_col8\" class=\"data row13 col8\" >90.582567</td>\n",
       "            </tr>\n",
       "            <tr>\n",
       "                        <th id=\"T_bc990906_e546_11ea_ad3a_14f6d8ece4fflevel0_row14\" class=\"row_heading level0 row14\" >Wright High School</th>\n",
       "                        <td id=\"T_bc990906_e546_11ea_ad3a_14f6d8ece4ffrow14_col0\" class=\"data row14 col0\" >Charter</td>\n",
       "                        <td id=\"T_bc990906_e546_11ea_ad3a_14f6d8ece4ffrow14_col1\" class=\"data row14 col1\" >1,800</td>\n",
       "                        <td id=\"T_bc990906_e546_11ea_ad3a_14f6d8ece4ffrow14_col2\" class=\"data row14 col2\" >$1,049,400</td>\n",
       "                        <td id=\"T_bc990906_e546_11ea_ad3a_14f6d8ece4ffrow14_col3\" class=\"data row14 col3\" >$583</td>\n",
       "                        <td id=\"T_bc990906_e546_11ea_ad3a_14f6d8ece4ffrow14_col4\" class=\"data row14 col4\" >83.682222</td>\n",
       "                        <td id=\"T_bc990906_e546_11ea_ad3a_14f6d8ece4ffrow14_col5\" class=\"data row14 col5\" >83.955000</td>\n",
       "                        <td id=\"T_bc990906_e546_11ea_ad3a_14f6d8ece4ffrow14_col6\" class=\"data row14 col6\" >93.333333</td>\n",
       "                        <td id=\"T_bc990906_e546_11ea_ad3a_14f6d8ece4ffrow14_col7\" class=\"data row14 col7\" >96.611111</td>\n",
       "                        <td id=\"T_bc990906_e546_11ea_ad3a_14f6d8ece4ffrow14_col8\" class=\"data row14 col8\" >90.333333</td>\n",
       "            </tr>\n",
       "    </tbody></table>"
      ],
      "text/plain": [
       "<pandas.io.formats.style.Styler at 0x1fd94afac08>"
      ]
     },
     "execution_count": 11,
     "metadata": {},
     "output_type": "execute_result"
    }
   ],
   "source": [
    "#group by school name\n",
    "grouped_by = school_data_complete.set_index('school_name').groupby(['school_name'])\n",
    "\n",
    "#school type\n",
    "school_type = school_data.set_index('school_name')['type']\n",
    "\n",
    "#total students\n",
    "student_count_per_school = grouped_by['Student ID'].count()\n",
    "\n",
    "# total school budget\n",
    "school_budget = school_data.set_index('school_name')['budget']\n",
    "\n",
    "#per student budget\n",
    "per_student_budget = school_data.set_index('school_name')['budget']/school_data.set_index('school_name')['size']\n",
    "\n",
    "#avg scores\n",
    "avg_math = grouped_by['math_score'].mean()\n",
    "avg_read = grouped_by['reading_score'].mean()\n",
    "\n",
    "#% passing scores\n",
    "pass_math = (school_data_complete[school_data_complete['math_score'] >= 70].groupby('school_name')['Student ID'].count()/student_count_per_school)*100\n",
    "pass_read = (school_data_complete[school_data_complete['reading_score'] >= 70].groupby('school_name')['Student ID'].count()/student_count_per_school)*100\n",
    "overall = (school_data_complete[(school_data_complete['reading_score'] >= 70) & (school_data_complete['math_score'] >= 70)].groupby('school_name')['Student ID'].count()/student_count_per_school)*100\n",
    "\n",
    "#new dataframe\n",
    "overview_table = pd.DataFrame({\n",
    "    \"School Type\": school_type,\n",
    "    \"Total Students\": student_count_per_school,\n",
    "    \"Total School Budget\": school_budget,\n",
    "    \"Per Student Budget\": per_student_budget,\n",
    "    \"Average Math Score\": avg_math,\n",
    "    \"Average Reading Score\": avg_read,\n",
    "    '% Passing Math': pass_math,\n",
    "    '% Passing Reading': pass_read,\n",
    "    \"Overall Passing Rate\": overall\n",
    "})\n",
    "\n",
    "#formatting\n",
    "overview_table.style.format({'Total Students': '{:,}', \n",
    "                          \"Total School Budget\": \"${:,}\", \n",
    "                          \"Per Student Budget\": \"${:,.0f}\"})"
   ]
  },
  {
   "cell_type": "markdown",
   "metadata": {},
   "source": [
    "## Top Performing Schools (By % Overall Passing)"
   ]
  },
  {
   "cell_type": "markdown",
   "metadata": {},
   "source": [
    "* Sort and display the top five performing schools by % overall passing."
   ]
  },
  {
   "cell_type": "code",
   "execution_count": 12,
   "metadata": {
    "scrolled": true
   },
   "outputs": [
    {
     "data": {
      "text/html": [
       "<style  type=\"text/css\" >\n",
       "</style><table id=\"T_bd7e77a4_e546_11ea_918e_14f6d8ece4ff\" ><thead>    <tr>        <th class=\"blank level0\" ></th>        <th class=\"col_heading level0 col0\" >School Type</th>        <th class=\"col_heading level0 col1\" >Total Students</th>        <th class=\"col_heading level0 col2\" >Total School Budget</th>        <th class=\"col_heading level0 col3\" >Per Student Budget</th>        <th class=\"col_heading level0 col4\" >Average Math Score</th>        <th class=\"col_heading level0 col5\" >Average Reading Score</th>        <th class=\"col_heading level0 col6\" >% Passing Math</th>        <th class=\"col_heading level0 col7\" >% Passing Reading</th>        <th class=\"col_heading level0 col8\" >Overall Passing Rate</th>    </tr></thead><tbody>\n",
       "                <tr>\n",
       "                        <th id=\"T_bd7e77a4_e546_11ea_918e_14f6d8ece4fflevel0_row0\" class=\"row_heading level0 row0\" >Cabrera High School</th>\n",
       "                        <td id=\"T_bd7e77a4_e546_11ea_918e_14f6d8ece4ffrow0_col0\" class=\"data row0 col0\" >Charter</td>\n",
       "                        <td id=\"T_bd7e77a4_e546_11ea_918e_14f6d8ece4ffrow0_col1\" class=\"data row0 col1\" >1,858</td>\n",
       "                        <td id=\"T_bd7e77a4_e546_11ea_918e_14f6d8ece4ffrow0_col2\" class=\"data row0 col2\" >$1,081,356</td>\n",
       "                        <td id=\"T_bd7e77a4_e546_11ea_918e_14f6d8ece4ffrow0_col3\" class=\"data row0 col3\" >$582</td>\n",
       "                        <td id=\"T_bd7e77a4_e546_11ea_918e_14f6d8ece4ffrow0_col4\" class=\"data row0 col4\" >83.061895</td>\n",
       "                        <td id=\"T_bd7e77a4_e546_11ea_918e_14f6d8ece4ffrow0_col5\" class=\"data row0 col5\" >83.975780</td>\n",
       "                        <td id=\"T_bd7e77a4_e546_11ea_918e_14f6d8ece4ffrow0_col6\" class=\"data row0 col6\" >94.133477</td>\n",
       "                        <td id=\"T_bd7e77a4_e546_11ea_918e_14f6d8ece4ffrow0_col7\" class=\"data row0 col7\" >97.039828</td>\n",
       "                        <td id=\"T_bd7e77a4_e546_11ea_918e_14f6d8ece4ffrow0_col8\" class=\"data row0 col8\" >91.334769</td>\n",
       "            </tr>\n",
       "            <tr>\n",
       "                        <th id=\"T_bd7e77a4_e546_11ea_918e_14f6d8ece4fflevel0_row1\" class=\"row_heading level0 row1\" >Thomas High School</th>\n",
       "                        <td id=\"T_bd7e77a4_e546_11ea_918e_14f6d8ece4ffrow1_col0\" class=\"data row1 col0\" >Charter</td>\n",
       "                        <td id=\"T_bd7e77a4_e546_11ea_918e_14f6d8ece4ffrow1_col1\" class=\"data row1 col1\" >1,635</td>\n",
       "                        <td id=\"T_bd7e77a4_e546_11ea_918e_14f6d8ece4ffrow1_col2\" class=\"data row1 col2\" >$1,043,130</td>\n",
       "                        <td id=\"T_bd7e77a4_e546_11ea_918e_14f6d8ece4ffrow1_col3\" class=\"data row1 col3\" >$638</td>\n",
       "                        <td id=\"T_bd7e77a4_e546_11ea_918e_14f6d8ece4ffrow1_col4\" class=\"data row1 col4\" >83.418349</td>\n",
       "                        <td id=\"T_bd7e77a4_e546_11ea_918e_14f6d8ece4ffrow1_col5\" class=\"data row1 col5\" >83.848930</td>\n",
       "                        <td id=\"T_bd7e77a4_e546_11ea_918e_14f6d8ece4ffrow1_col6\" class=\"data row1 col6\" >93.272171</td>\n",
       "                        <td id=\"T_bd7e77a4_e546_11ea_918e_14f6d8ece4ffrow1_col7\" class=\"data row1 col7\" >97.308869</td>\n",
       "                        <td id=\"T_bd7e77a4_e546_11ea_918e_14f6d8ece4ffrow1_col8\" class=\"data row1 col8\" >90.948012</td>\n",
       "            </tr>\n",
       "            <tr>\n",
       "                        <th id=\"T_bd7e77a4_e546_11ea_918e_14f6d8ece4fflevel0_row2\" class=\"row_heading level0 row2\" >Griffin High School</th>\n",
       "                        <td id=\"T_bd7e77a4_e546_11ea_918e_14f6d8ece4ffrow2_col0\" class=\"data row2 col0\" >Charter</td>\n",
       "                        <td id=\"T_bd7e77a4_e546_11ea_918e_14f6d8ece4ffrow2_col1\" class=\"data row2 col1\" >1,468</td>\n",
       "                        <td id=\"T_bd7e77a4_e546_11ea_918e_14f6d8ece4ffrow2_col2\" class=\"data row2 col2\" >$917,500</td>\n",
       "                        <td id=\"T_bd7e77a4_e546_11ea_918e_14f6d8ece4ffrow2_col3\" class=\"data row2 col3\" >$625</td>\n",
       "                        <td id=\"T_bd7e77a4_e546_11ea_918e_14f6d8ece4ffrow2_col4\" class=\"data row2 col4\" >83.351499</td>\n",
       "                        <td id=\"T_bd7e77a4_e546_11ea_918e_14f6d8ece4ffrow2_col5\" class=\"data row2 col5\" >83.816757</td>\n",
       "                        <td id=\"T_bd7e77a4_e546_11ea_918e_14f6d8ece4ffrow2_col6\" class=\"data row2 col6\" >93.392371</td>\n",
       "                        <td id=\"T_bd7e77a4_e546_11ea_918e_14f6d8ece4ffrow2_col7\" class=\"data row2 col7\" >97.138965</td>\n",
       "                        <td id=\"T_bd7e77a4_e546_11ea_918e_14f6d8ece4ffrow2_col8\" class=\"data row2 col8\" >90.599455</td>\n",
       "            </tr>\n",
       "            <tr>\n",
       "                        <th id=\"T_bd7e77a4_e546_11ea_918e_14f6d8ece4fflevel0_row3\" class=\"row_heading level0 row3\" >Wilson High School</th>\n",
       "                        <td id=\"T_bd7e77a4_e546_11ea_918e_14f6d8ece4ffrow3_col0\" class=\"data row3 col0\" >Charter</td>\n",
       "                        <td id=\"T_bd7e77a4_e546_11ea_918e_14f6d8ece4ffrow3_col1\" class=\"data row3 col1\" >2,283</td>\n",
       "                        <td id=\"T_bd7e77a4_e546_11ea_918e_14f6d8ece4ffrow3_col2\" class=\"data row3 col2\" >$1,319,574</td>\n",
       "                        <td id=\"T_bd7e77a4_e546_11ea_918e_14f6d8ece4ffrow3_col3\" class=\"data row3 col3\" >$578</td>\n",
       "                        <td id=\"T_bd7e77a4_e546_11ea_918e_14f6d8ece4ffrow3_col4\" class=\"data row3 col4\" >83.274201</td>\n",
       "                        <td id=\"T_bd7e77a4_e546_11ea_918e_14f6d8ece4ffrow3_col5\" class=\"data row3 col5\" >83.989488</td>\n",
       "                        <td id=\"T_bd7e77a4_e546_11ea_918e_14f6d8ece4ffrow3_col6\" class=\"data row3 col6\" >93.867718</td>\n",
       "                        <td id=\"T_bd7e77a4_e546_11ea_918e_14f6d8ece4ffrow3_col7\" class=\"data row3 col7\" >96.539641</td>\n",
       "                        <td id=\"T_bd7e77a4_e546_11ea_918e_14f6d8ece4ffrow3_col8\" class=\"data row3 col8\" >90.582567</td>\n",
       "            </tr>\n",
       "            <tr>\n",
       "                        <th id=\"T_bd7e77a4_e546_11ea_918e_14f6d8ece4fflevel0_row4\" class=\"row_heading level0 row4\" >Pena High School</th>\n",
       "                        <td id=\"T_bd7e77a4_e546_11ea_918e_14f6d8ece4ffrow4_col0\" class=\"data row4 col0\" >Charter</td>\n",
       "                        <td id=\"T_bd7e77a4_e546_11ea_918e_14f6d8ece4ffrow4_col1\" class=\"data row4 col1\" >962</td>\n",
       "                        <td id=\"T_bd7e77a4_e546_11ea_918e_14f6d8ece4ffrow4_col2\" class=\"data row4 col2\" >$585,858</td>\n",
       "                        <td id=\"T_bd7e77a4_e546_11ea_918e_14f6d8ece4ffrow4_col3\" class=\"data row4 col3\" >$609</td>\n",
       "                        <td id=\"T_bd7e77a4_e546_11ea_918e_14f6d8ece4ffrow4_col4\" class=\"data row4 col4\" >83.839917</td>\n",
       "                        <td id=\"T_bd7e77a4_e546_11ea_918e_14f6d8ece4ffrow4_col5\" class=\"data row4 col5\" >84.044699</td>\n",
       "                        <td id=\"T_bd7e77a4_e546_11ea_918e_14f6d8ece4ffrow4_col6\" class=\"data row4 col6\" >94.594595</td>\n",
       "                        <td id=\"T_bd7e77a4_e546_11ea_918e_14f6d8ece4ffrow4_col7\" class=\"data row4 col7\" >95.945946</td>\n",
       "                        <td id=\"T_bd7e77a4_e546_11ea_918e_14f6d8ece4ffrow4_col8\" class=\"data row4 col8\" >90.540541</td>\n",
       "            </tr>\n",
       "    </tbody></table>"
      ],
      "text/plain": [
       "<pandas.io.formats.style.Styler at 0x1fd95765bc8>"
      ]
     },
     "execution_count": 12,
     "metadata": {},
     "output_type": "execute_result"
    }
   ],
   "source": [
    "top_5 = overview_table.sort_values(\"Overall Passing Rate\", ascending = False)\n",
    "top_5.head().style.format({'Total Students': '{:,}', \n",
    "                          \"Total School Budget\": \"${:,}\", \n",
    "                          \"Per Student Budget\": \"${:,.0f}\"})"
   ]
  },
  {
   "cell_type": "markdown",
   "metadata": {},
   "source": [
    "## Bottom Performing Schools (By % Overall Passing)"
   ]
  },
  {
   "cell_type": "markdown",
   "metadata": {},
   "source": [
    "* Sort and display the five worst-performing schools by % overall passing."
   ]
  },
  {
   "cell_type": "code",
   "execution_count": 13,
   "metadata": {},
   "outputs": [
    {
     "data": {
      "text/html": [
       "<style  type=\"text/css\" >\n",
       "</style><table id=\"T_be9a3208_e546_11ea_be71_14f6d8ece4ff\" ><thead>    <tr>        <th class=\"blank level0\" ></th>        <th class=\"col_heading level0 col0\" >School Type</th>        <th class=\"col_heading level0 col1\" >Total Students</th>        <th class=\"col_heading level0 col2\" >Total School Budget</th>        <th class=\"col_heading level0 col3\" >Per Student Budget</th>        <th class=\"col_heading level0 col4\" >Average Math Score</th>        <th class=\"col_heading level0 col5\" >Average Reading Score</th>        <th class=\"col_heading level0 col6\" >% Passing Math</th>        <th class=\"col_heading level0 col7\" >% Passing Reading</th>        <th class=\"col_heading level0 col8\" >Overall Passing Rate</th>    </tr></thead><tbody>\n",
       "                <tr>\n",
       "                        <th id=\"T_be9a3208_e546_11ea_be71_14f6d8ece4fflevel0_row0\" class=\"row_heading level0 row0\" >Rodriguez High School</th>\n",
       "                        <td id=\"T_be9a3208_e546_11ea_be71_14f6d8ece4ffrow0_col0\" class=\"data row0 col0\" >District</td>\n",
       "                        <td id=\"T_be9a3208_e546_11ea_be71_14f6d8ece4ffrow0_col1\" class=\"data row0 col1\" >3,999</td>\n",
       "                        <td id=\"T_be9a3208_e546_11ea_be71_14f6d8ece4ffrow0_col2\" class=\"data row0 col2\" >$2,547,363</td>\n",
       "                        <td id=\"T_be9a3208_e546_11ea_be71_14f6d8ece4ffrow0_col3\" class=\"data row0 col3\" >$637</td>\n",
       "                        <td id=\"T_be9a3208_e546_11ea_be71_14f6d8ece4ffrow0_col4\" class=\"data row0 col4\" >76.842711</td>\n",
       "                        <td id=\"T_be9a3208_e546_11ea_be71_14f6d8ece4ffrow0_col5\" class=\"data row0 col5\" >80.744686</td>\n",
       "                        <td id=\"T_be9a3208_e546_11ea_be71_14f6d8ece4ffrow0_col6\" class=\"data row0 col6\" >66.366592</td>\n",
       "                        <td id=\"T_be9a3208_e546_11ea_be71_14f6d8ece4ffrow0_col7\" class=\"data row0 col7\" >80.220055</td>\n",
       "                        <td id=\"T_be9a3208_e546_11ea_be71_14f6d8ece4ffrow0_col8\" class=\"data row0 col8\" >52.988247</td>\n",
       "            </tr>\n",
       "            <tr>\n",
       "                        <th id=\"T_be9a3208_e546_11ea_be71_14f6d8ece4fflevel0_row1\" class=\"row_heading level0 row1\" >Figueroa High School</th>\n",
       "                        <td id=\"T_be9a3208_e546_11ea_be71_14f6d8ece4ffrow1_col0\" class=\"data row1 col0\" >District</td>\n",
       "                        <td id=\"T_be9a3208_e546_11ea_be71_14f6d8ece4ffrow1_col1\" class=\"data row1 col1\" >2,949</td>\n",
       "                        <td id=\"T_be9a3208_e546_11ea_be71_14f6d8ece4ffrow1_col2\" class=\"data row1 col2\" >$1,884,411</td>\n",
       "                        <td id=\"T_be9a3208_e546_11ea_be71_14f6d8ece4ffrow1_col3\" class=\"data row1 col3\" >$639</td>\n",
       "                        <td id=\"T_be9a3208_e546_11ea_be71_14f6d8ece4ffrow1_col4\" class=\"data row1 col4\" >76.711767</td>\n",
       "                        <td id=\"T_be9a3208_e546_11ea_be71_14f6d8ece4ffrow1_col5\" class=\"data row1 col5\" >81.158020</td>\n",
       "                        <td id=\"T_be9a3208_e546_11ea_be71_14f6d8ece4ffrow1_col6\" class=\"data row1 col6\" >65.988471</td>\n",
       "                        <td id=\"T_be9a3208_e546_11ea_be71_14f6d8ece4ffrow1_col7\" class=\"data row1 col7\" >80.739234</td>\n",
       "                        <td id=\"T_be9a3208_e546_11ea_be71_14f6d8ece4ffrow1_col8\" class=\"data row1 col8\" >53.204476</td>\n",
       "            </tr>\n",
       "            <tr>\n",
       "                        <th id=\"T_be9a3208_e546_11ea_be71_14f6d8ece4fflevel0_row2\" class=\"row_heading level0 row2\" >Huang High School</th>\n",
       "                        <td id=\"T_be9a3208_e546_11ea_be71_14f6d8ece4ffrow2_col0\" class=\"data row2 col0\" >District</td>\n",
       "                        <td id=\"T_be9a3208_e546_11ea_be71_14f6d8ece4ffrow2_col1\" class=\"data row2 col1\" >2,917</td>\n",
       "                        <td id=\"T_be9a3208_e546_11ea_be71_14f6d8ece4ffrow2_col2\" class=\"data row2 col2\" >$1,910,635</td>\n",
       "                        <td id=\"T_be9a3208_e546_11ea_be71_14f6d8ece4ffrow2_col3\" class=\"data row2 col3\" >$655</td>\n",
       "                        <td id=\"T_be9a3208_e546_11ea_be71_14f6d8ece4ffrow2_col4\" class=\"data row2 col4\" >76.629414</td>\n",
       "                        <td id=\"T_be9a3208_e546_11ea_be71_14f6d8ece4ffrow2_col5\" class=\"data row2 col5\" >81.182722</td>\n",
       "                        <td id=\"T_be9a3208_e546_11ea_be71_14f6d8ece4ffrow2_col6\" class=\"data row2 col6\" >65.683922</td>\n",
       "                        <td id=\"T_be9a3208_e546_11ea_be71_14f6d8ece4ffrow2_col7\" class=\"data row2 col7\" >81.316421</td>\n",
       "                        <td id=\"T_be9a3208_e546_11ea_be71_14f6d8ece4ffrow2_col8\" class=\"data row2 col8\" >53.513884</td>\n",
       "            </tr>\n",
       "            <tr>\n",
       "                        <th id=\"T_be9a3208_e546_11ea_be71_14f6d8ece4fflevel0_row3\" class=\"row_heading level0 row3\" >Hernandez High School</th>\n",
       "                        <td id=\"T_be9a3208_e546_11ea_be71_14f6d8ece4ffrow3_col0\" class=\"data row3 col0\" >District</td>\n",
       "                        <td id=\"T_be9a3208_e546_11ea_be71_14f6d8ece4ffrow3_col1\" class=\"data row3 col1\" >4,635</td>\n",
       "                        <td id=\"T_be9a3208_e546_11ea_be71_14f6d8ece4ffrow3_col2\" class=\"data row3 col2\" >$3,022,020</td>\n",
       "                        <td id=\"T_be9a3208_e546_11ea_be71_14f6d8ece4ffrow3_col3\" class=\"data row3 col3\" >$652</td>\n",
       "                        <td id=\"T_be9a3208_e546_11ea_be71_14f6d8ece4ffrow3_col4\" class=\"data row3 col4\" >77.289752</td>\n",
       "                        <td id=\"T_be9a3208_e546_11ea_be71_14f6d8ece4ffrow3_col5\" class=\"data row3 col5\" >80.934412</td>\n",
       "                        <td id=\"T_be9a3208_e546_11ea_be71_14f6d8ece4ffrow3_col6\" class=\"data row3 col6\" >66.752967</td>\n",
       "                        <td id=\"T_be9a3208_e546_11ea_be71_14f6d8ece4ffrow3_col7\" class=\"data row3 col7\" >80.862999</td>\n",
       "                        <td id=\"T_be9a3208_e546_11ea_be71_14f6d8ece4ffrow3_col8\" class=\"data row3 col8\" >53.527508</td>\n",
       "            </tr>\n",
       "            <tr>\n",
       "                        <th id=\"T_be9a3208_e546_11ea_be71_14f6d8ece4fflevel0_row4\" class=\"row_heading level0 row4\" >Johnson High School</th>\n",
       "                        <td id=\"T_be9a3208_e546_11ea_be71_14f6d8ece4ffrow4_col0\" class=\"data row4 col0\" >District</td>\n",
       "                        <td id=\"T_be9a3208_e546_11ea_be71_14f6d8ece4ffrow4_col1\" class=\"data row4 col1\" >4,761</td>\n",
       "                        <td id=\"T_be9a3208_e546_11ea_be71_14f6d8ece4ffrow4_col2\" class=\"data row4 col2\" >$3,094,650</td>\n",
       "                        <td id=\"T_be9a3208_e546_11ea_be71_14f6d8ece4ffrow4_col3\" class=\"data row4 col3\" >$650</td>\n",
       "                        <td id=\"T_be9a3208_e546_11ea_be71_14f6d8ece4ffrow4_col4\" class=\"data row4 col4\" >77.072464</td>\n",
       "                        <td id=\"T_be9a3208_e546_11ea_be71_14f6d8ece4ffrow4_col5\" class=\"data row4 col5\" >80.966394</td>\n",
       "                        <td id=\"T_be9a3208_e546_11ea_be71_14f6d8ece4ffrow4_col6\" class=\"data row4 col6\" >66.057551</td>\n",
       "                        <td id=\"T_be9a3208_e546_11ea_be71_14f6d8ece4ffrow4_col7\" class=\"data row4 col7\" >81.222432</td>\n",
       "                        <td id=\"T_be9a3208_e546_11ea_be71_14f6d8ece4ffrow4_col8\" class=\"data row4 col8\" >53.539172</td>\n",
       "            </tr>\n",
       "    </tbody></table>"
      ],
      "text/plain": [
       "<pandas.io.formats.style.Styler at 0x1fd948e3f08>"
      ]
     },
     "execution_count": 13,
     "metadata": {},
     "output_type": "execute_result"
    }
   ],
   "source": [
    "bottom_5 = overview_table.sort_values(\"Overall Passing Rate\", ascending = True)\n",
    "bottom_5.head().style.format({'Total Students': '{:,}', \n",
    "                          \"Total School Budget\": \"${:,}\", \n",
    "                          \"Per Student Budget\": \"${:,.0f}\"})"
   ]
  },
  {
   "cell_type": "markdown",
   "metadata": {
    "collapsed": true
   },
   "source": [
    "## Math Scores by Grade"
   ]
  },
  {
   "cell_type": "markdown",
   "metadata": {},
   "source": [
    "* Create a table that lists the average math score for students of each grade level (9th, 10th, 11th, 12th) at each school.\n",
    "\n",
    "  * Create a pandas series for each grade. Hint: use a conditional statement.\n",
    "  \n",
    "  * Group each series by school\n",
    "  \n",
    "  * Combine the series into a dataframe\n",
    "  \n",
    "  * Optional: give the displayed data cleaner formatting"
   ]
  },
  {
   "cell_type": "code",
   "execution_count": 14,
   "metadata": {},
   "outputs": [],
   "source": [
    "#by grade\n",
    "ninth = school_data_complete.loc[school_data_complete[\"grade\"] == \"9th\"]\n",
    "tenth = school_data_complete.loc[school_data_complete[\"grade\"] == \"10th\"]\n",
    "eleventh = school_data_complete.loc[school_data_complete[\"grade\"] == \"11th\"]\n",
    "twelfth = school_data_complete.loc[school_data_complete[\"grade\"] == \"12th\"]"
   ]
  },
  {
   "cell_type": "code",
   "execution_count": 15,
   "metadata": {
    "scrolled": true
   },
   "outputs": [
    {
     "data": {
      "text/html": [
       "<div>\n",
       "<style scoped>\n",
       "    .dataframe tbody tr th:only-of-type {\n",
       "        vertical-align: middle;\n",
       "    }\n",
       "\n",
       "    .dataframe tbody tr th {\n",
       "        vertical-align: top;\n",
       "    }\n",
       "\n",
       "    .dataframe thead th {\n",
       "        text-align: right;\n",
       "    }\n",
       "</style>\n",
       "<table border=\"1\" class=\"dataframe\">\n",
       "  <thead>\n",
       "    <tr style=\"text-align: right;\">\n",
       "      <th></th>\n",
       "      <th>9th</th>\n",
       "      <th>10th</th>\n",
       "      <th>11th</th>\n",
       "      <th>12th</th>\n",
       "    </tr>\n",
       "    <tr>\n",
       "      <th>school_name</th>\n",
       "      <th></th>\n",
       "      <th></th>\n",
       "      <th></th>\n",
       "      <th></th>\n",
       "    </tr>\n",
       "  </thead>\n",
       "  <tbody>\n",
       "    <tr>\n",
       "      <th>Bailey High School</th>\n",
       "      <td>77.083676</td>\n",
       "      <td>76.996772</td>\n",
       "      <td>77.515588</td>\n",
       "      <td>76.492218</td>\n",
       "    </tr>\n",
       "    <tr>\n",
       "      <th>Cabrera High School</th>\n",
       "      <td>83.094697</td>\n",
       "      <td>83.154506</td>\n",
       "      <td>82.765560</td>\n",
       "      <td>83.277487</td>\n",
       "    </tr>\n",
       "    <tr>\n",
       "      <th>Figueroa High School</th>\n",
       "      <td>76.403037</td>\n",
       "      <td>76.539974</td>\n",
       "      <td>76.884344</td>\n",
       "      <td>77.151369</td>\n",
       "    </tr>\n",
       "    <tr>\n",
       "      <th>Ford High School</th>\n",
       "      <td>77.361345</td>\n",
       "      <td>77.672316</td>\n",
       "      <td>76.918058</td>\n",
       "      <td>76.179963</td>\n",
       "    </tr>\n",
       "    <tr>\n",
       "      <th>Griffin High School</th>\n",
       "      <td>82.044010</td>\n",
       "      <td>84.229064</td>\n",
       "      <td>83.842105</td>\n",
       "      <td>83.356164</td>\n",
       "    </tr>\n",
       "    <tr>\n",
       "      <th>Hernandez High School</th>\n",
       "      <td>77.438495</td>\n",
       "      <td>77.337408</td>\n",
       "      <td>77.136029</td>\n",
       "      <td>77.186567</td>\n",
       "    </tr>\n",
       "    <tr>\n",
       "      <th>Holden High School</th>\n",
       "      <td>83.787402</td>\n",
       "      <td>83.429825</td>\n",
       "      <td>85.000000</td>\n",
       "      <td>82.855422</td>\n",
       "    </tr>\n",
       "    <tr>\n",
       "      <th>Huang High School</th>\n",
       "      <td>77.027251</td>\n",
       "      <td>75.908735</td>\n",
       "      <td>76.446602</td>\n",
       "      <td>77.225641</td>\n",
       "    </tr>\n",
       "    <tr>\n",
       "      <th>Johnson High School</th>\n",
       "      <td>77.187857</td>\n",
       "      <td>76.691117</td>\n",
       "      <td>77.491653</td>\n",
       "      <td>76.863248</td>\n",
       "    </tr>\n",
       "    <tr>\n",
       "      <th>Pena High School</th>\n",
       "      <td>83.625455</td>\n",
       "      <td>83.372000</td>\n",
       "      <td>84.328125</td>\n",
       "      <td>84.121547</td>\n",
       "    </tr>\n",
       "    <tr>\n",
       "      <th>Rodriguez High School</th>\n",
       "      <td>76.859966</td>\n",
       "      <td>76.612500</td>\n",
       "      <td>76.395626</td>\n",
       "      <td>77.690748</td>\n",
       "    </tr>\n",
       "    <tr>\n",
       "      <th>Shelton High School</th>\n",
       "      <td>83.420755</td>\n",
       "      <td>82.917411</td>\n",
       "      <td>83.383495</td>\n",
       "      <td>83.778976</td>\n",
       "    </tr>\n",
       "    <tr>\n",
       "      <th>Thomas High School</th>\n",
       "      <td>83.590022</td>\n",
       "      <td>83.087886</td>\n",
       "      <td>83.498795</td>\n",
       "      <td>83.497041</td>\n",
       "    </tr>\n",
       "    <tr>\n",
       "      <th>Wilson High School</th>\n",
       "      <td>83.085578</td>\n",
       "      <td>83.724422</td>\n",
       "      <td>83.195326</td>\n",
       "      <td>83.035794</td>\n",
       "    </tr>\n",
       "    <tr>\n",
       "      <th>Wright High School</th>\n",
       "      <td>83.264706</td>\n",
       "      <td>84.010288</td>\n",
       "      <td>83.836782</td>\n",
       "      <td>83.644986</td>\n",
       "    </tr>\n",
       "  </tbody>\n",
       "</table>\n",
       "</div>"
      ],
      "text/plain": [
       "                             9th       10th       11th       12th\n",
       "school_name                                                      \n",
       "Bailey High School     77.083676  76.996772  77.515588  76.492218\n",
       "Cabrera High School    83.094697  83.154506  82.765560  83.277487\n",
       "Figueroa High School   76.403037  76.539974  76.884344  77.151369\n",
       "Ford High School       77.361345  77.672316  76.918058  76.179963\n",
       "Griffin High School    82.044010  84.229064  83.842105  83.356164\n",
       "Hernandez High School  77.438495  77.337408  77.136029  77.186567\n",
       "Holden High School     83.787402  83.429825  85.000000  82.855422\n",
       "Huang High School      77.027251  75.908735  76.446602  77.225641\n",
       "Johnson High School    77.187857  76.691117  77.491653  76.863248\n",
       "Pena High School       83.625455  83.372000  84.328125  84.121547\n",
       "Rodriguez High School  76.859966  76.612500  76.395626  77.690748\n",
       "Shelton High School    83.420755  82.917411  83.383495  83.778976\n",
       "Thomas High School     83.590022  83.087886  83.498795  83.497041\n",
       "Wilson High School     83.085578  83.724422  83.195326  83.035794\n",
       "Wright High School     83.264706  84.010288  83.836782  83.644986"
      ]
     },
     "execution_count": 15,
     "metadata": {},
     "output_type": "execute_result"
    }
   ],
   "source": [
    "#avg scores\n",
    "math_ninth = ninth.groupby(\"school_name\")[\"math_score\"].mean()\n",
    "math_tenth = tenth.groupby(\"school_name\")[\"math_score\"].mean()\n",
    "math_eleventh = eleventh.groupby(\"school_name\")[\"math_score\"].mean()\n",
    "math_twelfth = twelfth.groupby(\"school_name\")[\"math_score\"].mean()\n",
    "\n",
    "#new dataframe\n",
    "math_grades = pd.DataFrame({\"9th\":math_ninth, \"10th\":math_tenth, \n",
    "                             \"11th\":math_eleventh, \"12th\":math_twelfth})\n",
    "math_grades"
   ]
  },
  {
   "cell_type": "markdown",
   "metadata": {},
   "source": [
    "## Reading Score by Grade "
   ]
  },
  {
   "cell_type": "markdown",
   "metadata": {},
   "source": [
    "* Perform the same operations as above for reading scores"
   ]
  },
  {
   "cell_type": "code",
   "execution_count": 16,
   "metadata": {},
   "outputs": [
    {
     "data": {
      "text/html": [
       "<div>\n",
       "<style scoped>\n",
       "    .dataframe tbody tr th:only-of-type {\n",
       "        vertical-align: middle;\n",
       "    }\n",
       "\n",
       "    .dataframe tbody tr th {\n",
       "        vertical-align: top;\n",
       "    }\n",
       "\n",
       "    .dataframe thead th {\n",
       "        text-align: right;\n",
       "    }\n",
       "</style>\n",
       "<table border=\"1\" class=\"dataframe\">\n",
       "  <thead>\n",
       "    <tr style=\"text-align: right;\">\n",
       "      <th></th>\n",
       "      <th>9th</th>\n",
       "      <th>10th</th>\n",
       "      <th>11th</th>\n",
       "      <th>12th</th>\n",
       "    </tr>\n",
       "    <tr>\n",
       "      <th>school_name</th>\n",
       "      <th></th>\n",
       "      <th></th>\n",
       "      <th></th>\n",
       "      <th></th>\n",
       "    </tr>\n",
       "  </thead>\n",
       "  <tbody>\n",
       "    <tr>\n",
       "      <th>Bailey High School</th>\n",
       "      <td>81.303155</td>\n",
       "      <td>80.907183</td>\n",
       "      <td>80.945643</td>\n",
       "      <td>80.912451</td>\n",
       "    </tr>\n",
       "    <tr>\n",
       "      <th>Cabrera High School</th>\n",
       "      <td>83.676136</td>\n",
       "      <td>84.253219</td>\n",
       "      <td>83.788382</td>\n",
       "      <td>84.287958</td>\n",
       "    </tr>\n",
       "    <tr>\n",
       "      <th>Figueroa High School</th>\n",
       "      <td>81.198598</td>\n",
       "      <td>81.408912</td>\n",
       "      <td>80.640339</td>\n",
       "      <td>81.384863</td>\n",
       "    </tr>\n",
       "    <tr>\n",
       "      <th>Ford High School</th>\n",
       "      <td>80.632653</td>\n",
       "      <td>81.262712</td>\n",
       "      <td>80.403642</td>\n",
       "      <td>80.662338</td>\n",
       "    </tr>\n",
       "    <tr>\n",
       "      <th>Griffin High School</th>\n",
       "      <td>83.369193</td>\n",
       "      <td>83.706897</td>\n",
       "      <td>84.288089</td>\n",
       "      <td>84.013699</td>\n",
       "    </tr>\n",
       "    <tr>\n",
       "      <th>Hernandez High School</th>\n",
       "      <td>80.866860</td>\n",
       "      <td>80.660147</td>\n",
       "      <td>81.396140</td>\n",
       "      <td>80.857143</td>\n",
       "    </tr>\n",
       "    <tr>\n",
       "      <th>Holden High School</th>\n",
       "      <td>83.677165</td>\n",
       "      <td>83.324561</td>\n",
       "      <td>83.815534</td>\n",
       "      <td>84.698795</td>\n",
       "    </tr>\n",
       "    <tr>\n",
       "      <th>Huang High School</th>\n",
       "      <td>81.290284</td>\n",
       "      <td>81.512386</td>\n",
       "      <td>81.417476</td>\n",
       "      <td>80.305983</td>\n",
       "    </tr>\n",
       "    <tr>\n",
       "      <th>Johnson High School</th>\n",
       "      <td>81.260714</td>\n",
       "      <td>80.773431</td>\n",
       "      <td>80.616027</td>\n",
       "      <td>81.227564</td>\n",
       "    </tr>\n",
       "    <tr>\n",
       "      <th>Pena High School</th>\n",
       "      <td>83.807273</td>\n",
       "      <td>83.612000</td>\n",
       "      <td>84.335938</td>\n",
       "      <td>84.591160</td>\n",
       "    </tr>\n",
       "    <tr>\n",
       "      <th>Rodriguez High School</th>\n",
       "      <td>80.993127</td>\n",
       "      <td>80.629808</td>\n",
       "      <td>80.864811</td>\n",
       "      <td>80.376426</td>\n",
       "    </tr>\n",
       "    <tr>\n",
       "      <th>Shelton High School</th>\n",
       "      <td>84.122642</td>\n",
       "      <td>83.441964</td>\n",
       "      <td>84.373786</td>\n",
       "      <td>82.781671</td>\n",
       "    </tr>\n",
       "    <tr>\n",
       "      <th>Thomas High School</th>\n",
       "      <td>83.728850</td>\n",
       "      <td>84.254157</td>\n",
       "      <td>83.585542</td>\n",
       "      <td>83.831361</td>\n",
       "    </tr>\n",
       "    <tr>\n",
       "      <th>Wilson High School</th>\n",
       "      <td>83.939778</td>\n",
       "      <td>84.021452</td>\n",
       "      <td>83.764608</td>\n",
       "      <td>84.317673</td>\n",
       "    </tr>\n",
       "    <tr>\n",
       "      <th>Wright High School</th>\n",
       "      <td>83.833333</td>\n",
       "      <td>83.812757</td>\n",
       "      <td>84.156322</td>\n",
       "      <td>84.073171</td>\n",
       "    </tr>\n",
       "  </tbody>\n",
       "</table>\n",
       "</div>"
      ],
      "text/plain": [
       "                             9th       10th       11th       12th\n",
       "school_name                                                      \n",
       "Bailey High School     81.303155  80.907183  80.945643  80.912451\n",
       "Cabrera High School    83.676136  84.253219  83.788382  84.287958\n",
       "Figueroa High School   81.198598  81.408912  80.640339  81.384863\n",
       "Ford High School       80.632653  81.262712  80.403642  80.662338\n",
       "Griffin High School    83.369193  83.706897  84.288089  84.013699\n",
       "Hernandez High School  80.866860  80.660147  81.396140  80.857143\n",
       "Holden High School     83.677165  83.324561  83.815534  84.698795\n",
       "Huang High School      81.290284  81.512386  81.417476  80.305983\n",
       "Johnson High School    81.260714  80.773431  80.616027  81.227564\n",
       "Pena High School       83.807273  83.612000  84.335938  84.591160\n",
       "Rodriguez High School  80.993127  80.629808  80.864811  80.376426\n",
       "Shelton High School    84.122642  83.441964  84.373786  82.781671\n",
       "Thomas High School     83.728850  84.254157  83.585542  83.831361\n",
       "Wilson High School     83.939778  84.021452  83.764608  84.317673\n",
       "Wright High School     83.833333  83.812757  84.156322  84.073171"
      ]
     },
     "execution_count": 16,
     "metadata": {},
     "output_type": "execute_result"
    }
   ],
   "source": [
    "#avg scores\n",
    "reading_ninth = ninth.groupby(\"school_name\")[\"reading_score\"].mean()\n",
    "reading_tenth = tenth.groupby(\"school_name\")[\"reading_score\"].mean()\n",
    "reading_eleventh = eleventh.groupby(\"school_name\")[\"reading_score\"].mean()\n",
    "reading_twelfth = twelfth.groupby(\"school_name\")[\"reading_score\"].mean()\n",
    "\n",
    "#new dataframe\n",
    "reading_grades = pd.DataFrame({\"9th\":reading_ninth, \"10th\":reading_tenth, \n",
    "                             \"11th\":reading_eleventh, \"12th\":reading_twelfth})\n",
    "reading_grades"
   ]
  },
  {
   "cell_type": "markdown",
   "metadata": {},
   "source": [
    "## Scores by School Spending"
   ]
  },
  {
   "cell_type": "markdown",
   "metadata": {},
   "source": [
    "* Create a table that breaks down school performances based on average Spending Ranges (Per Student). Use 4 reasonable bins to group school spending. Include in the table each of the following:\n",
    "  * Average Math Score\n",
    "  * Average Reading Score\n",
    "  * % Passing Math\n",
    "  * % Passing Reading\n",
    "  * Overall Passing Rate (Average of the above two)"
   ]
  },
  {
   "cell_type": "code",
   "execution_count": 17,
   "metadata": {},
   "outputs": [],
   "source": [
    "#create bins and name for bins\n",
    "bins = [0, 584, 629, 644, 999]\n",
    "group_names = [\"<$584\", \"$585-629\", \"$630-644\", \"$645-675\"]"
   ]
  },
  {
   "cell_type": "code",
   "execution_count": 18,
   "metadata": {},
   "outputs": [],
   "source": [
    "school_data_complete[\"Spending Ranges (Per Student)\"] = pd.cut(school_data_complete[\"budget\"]/school_data_complete[\"size\"], bins, labels = group_names)"
   ]
  },
  {
   "cell_type": "code",
   "execution_count": 19,
   "metadata": {},
   "outputs": [],
   "source": [
    "#creating a group based off of bins\n",
    "by_spend = school_data_complete.groupby(\"Spending Ranges (Per Student)\")"
   ]
  },
  {
   "cell_type": "code",
   "execution_count": 20,
   "metadata": {},
   "outputs": [],
   "source": [
    "#avg scores\n",
    "avg_math_by_spend = by_spend['math_score'].mean()\n",
    "avg_read_by_spend = by_spend['reading_score'].mean()\n",
    "\n",
    "#% passing scores\n",
    "pass_math_by_spend = (school_data_complete[school_data_complete['math_score'] >= 70].groupby('Spending Ranges (Per Student)')['Student ID'].count()/by_spend['Student ID'].count())*100\n",
    "pass_read_by_spend = (school_data_complete[school_data_complete['reading_score'] >= 70].groupby('Spending Ranges (Per Student)')['Student ID'].count()/by_spend['Student ID'].count())*100\n",
    "overall_by_spend = (school_data_complete[(school_data_complete['reading_score'] >= 70) & (school_data_complete['math_score'] >= 70)].groupby('Spending Ranges (Per Student)')['Student ID'].count()/by_spend['Student ID'].count())*100"
   ]
  },
  {
   "cell_type": "code",
   "execution_count": 21,
   "metadata": {},
   "outputs": [
    {
     "data": {
      "text/html": [
       "<div>\n",
       "<style scoped>\n",
       "    .dataframe tbody tr th:only-of-type {\n",
       "        vertical-align: middle;\n",
       "    }\n",
       "\n",
       "    .dataframe tbody tr th {\n",
       "        vertical-align: top;\n",
       "    }\n",
       "\n",
       "    .dataframe thead th {\n",
       "        text-align: right;\n",
       "    }\n",
       "</style>\n",
       "<table border=\"1\" class=\"dataframe\">\n",
       "  <thead>\n",
       "    <tr style=\"text-align: right;\">\n",
       "      <th></th>\n",
       "      <th>Average Math Score</th>\n",
       "      <th>Average Reading Score</th>\n",
       "      <th>% Passing Math</th>\n",
       "      <th>% Passing Reading</th>\n",
       "      <th>Overall Passing Rate</th>\n",
       "    </tr>\n",
       "    <tr>\n",
       "      <th>Spending Ranges (Per Student)</th>\n",
       "      <th></th>\n",
       "      <th></th>\n",
       "      <th></th>\n",
       "      <th></th>\n",
       "      <th></th>\n",
       "    </tr>\n",
       "  </thead>\n",
       "  <tbody>\n",
       "    <tr>\n",
       "      <th>&lt;$584</th>\n",
       "      <td>83.363065</td>\n",
       "      <td>83.964039</td>\n",
       "      <td>93.702889</td>\n",
       "      <td>96.686558</td>\n",
       "      <td>90.640704</td>\n",
       "    </tr>\n",
       "    <tr>\n",
       "      <th>$585-629</th>\n",
       "      <td>79.982873</td>\n",
       "      <td>82.312643</td>\n",
       "      <td>79.109851</td>\n",
       "      <td>88.513145</td>\n",
       "      <td>70.939239</td>\n",
       "    </tr>\n",
       "    <tr>\n",
       "      <th>$630-644</th>\n",
       "      <td>77.821056</td>\n",
       "      <td>81.301007</td>\n",
       "      <td>70.623565</td>\n",
       "      <td>82.600247</td>\n",
       "      <td>58.841194</td>\n",
       "    </tr>\n",
       "    <tr>\n",
       "      <th>$645-675</th>\n",
       "      <td>77.049297</td>\n",
       "      <td>81.005604</td>\n",
       "      <td>66.230813</td>\n",
       "      <td>81.109397</td>\n",
       "      <td>53.528791</td>\n",
       "    </tr>\n",
       "  </tbody>\n",
       "</table>\n",
       "</div>"
      ],
      "text/plain": [
       "                               Average Math Score  Average Reading Score  \\\n",
       "Spending Ranges (Per Student)                                              \n",
       "<$584                                   83.363065              83.964039   \n",
       "$585-629                                79.982873              82.312643   \n",
       "$630-644                                77.821056              81.301007   \n",
       "$645-675                                77.049297              81.005604   \n",
       "\n",
       "                               % Passing Math  % Passing Reading  \\\n",
       "Spending Ranges (Per Student)                                      \n",
       "<$584                               93.702889          96.686558   \n",
       "$585-629                            79.109851          88.513145   \n",
       "$630-644                            70.623565          82.600247   \n",
       "$645-675                            66.230813          81.109397   \n",
       "\n",
       "                               Overall Passing Rate  \n",
       "Spending Ranges (Per Student)                        \n",
       "<$584                                     90.640704  \n",
       "$585-629                                  70.939239  \n",
       "$630-644                                  58.841194  \n",
       "$645-675                                  53.528791  "
      ]
     },
     "execution_count": 21,
     "metadata": {},
     "output_type": "execute_result"
    }
   ],
   "source": [
    "#new dataframe\n",
    "scores_by_spend = pd.DataFrame({\n",
    "    \"Average Math Score\": avg_math_by_spend,\n",
    "    \"Average Reading Score\": avg_read_by_spend,\n",
    "    '% Passing Math': pass_math_by_spend,\n",
    "    '% Passing Reading': pass_read_by_spend,\n",
    "    \"Overall Passing Rate\": overall_by_spend\n",
    "            \n",
    "})\n",
    "scores_by_spend"
   ]
  },
  {
   "cell_type": "markdown",
   "metadata": {},
   "source": [
    "## Scores by School Size"
   ]
  },
  {
   "cell_type": "markdown",
   "metadata": {},
   "source": [
    "* Perform the same operations as above, based on school size."
   ]
  },
  {
   "cell_type": "code",
   "execution_count": 22,
   "metadata": {},
   "outputs": [],
   "source": [
    "#create bins and name of bins\n",
    "bins = [0, 999, 1999, 9999]\n",
    "group_name = [\"Small (<1000)\", \"Medium (1000-2000)\" , \"Large (>2000)\"]"
   ]
  },
  {
   "cell_type": "code",
   "execution_count": 23,
   "metadata": {},
   "outputs": [],
   "source": [
    "school_data_complete[\"School Size\"] = pd.cut(school_data_complete[\"size\"], bins, labels = group_name)"
   ]
  },
  {
   "cell_type": "code",
   "execution_count": 24,
   "metadata": {},
   "outputs": [],
   "source": [
    "#creating a group based off of bins\n",
    "by_size = school_data_complete.groupby(\"School Size\")"
   ]
  },
  {
   "cell_type": "code",
   "execution_count": 25,
   "metadata": {},
   "outputs": [],
   "source": [
    "#avg scores\n",
    "avg_math_by_size = by_size['math_score'].mean()\n",
    "avg_read_by_size = by_size['reading_score'].mean()\n",
    "\n",
    "#% passing scores\n",
    "pass_math_by_size = (school_data_complete[school_data_complete['math_score'] >= 70].groupby('School Size')['Student ID'].count()/by_size['Student ID'].count())*100\n",
    "pass_read_by_size = (school_data_complete[school_data_complete['reading_score'] >= 70].groupby('School Size')['Student ID'].count()/by_size['Student ID'].count())*100\n",
    "overall_by_size = (school_data_complete[(school_data_complete['reading_score'] >= 70) & (school_data_complete['math_score'] >= 70)].groupby('School Size')['Student ID'].count()/by_size['Student ID'].count())*100"
   ]
  },
  {
   "cell_type": "code",
   "execution_count": 26,
   "metadata": {},
   "outputs": [
    {
     "data": {
      "text/html": [
       "<div>\n",
       "<style scoped>\n",
       "    .dataframe tbody tr th:only-of-type {\n",
       "        vertical-align: middle;\n",
       "    }\n",
       "\n",
       "    .dataframe tbody tr th {\n",
       "        vertical-align: top;\n",
       "    }\n",
       "\n",
       "    .dataframe thead th {\n",
       "        text-align: right;\n",
       "    }\n",
       "</style>\n",
       "<table border=\"1\" class=\"dataframe\">\n",
       "  <thead>\n",
       "    <tr style=\"text-align: right;\">\n",
       "      <th></th>\n",
       "      <th>Average Math Score</th>\n",
       "      <th>Average Reading Score</th>\n",
       "      <th>% Passing Math</th>\n",
       "      <th>% Passing Reading</th>\n",
       "      <th>Overall Passing Rate</th>\n",
       "    </tr>\n",
       "    <tr>\n",
       "      <th>School Size</th>\n",
       "      <th></th>\n",
       "      <th></th>\n",
       "      <th></th>\n",
       "      <th></th>\n",
       "      <th></th>\n",
       "    </tr>\n",
       "  </thead>\n",
       "  <tbody>\n",
       "    <tr>\n",
       "      <th>Small (&lt;1000)</th>\n",
       "      <td>83.828654</td>\n",
       "      <td>83.974082</td>\n",
       "      <td>93.952484</td>\n",
       "      <td>96.040317</td>\n",
       "      <td>90.136789</td>\n",
       "    </tr>\n",
       "    <tr>\n",
       "      <th>Medium (1000-2000)</th>\n",
       "      <td>83.372682</td>\n",
       "      <td>83.867989</td>\n",
       "      <td>93.616522</td>\n",
       "      <td>96.773058</td>\n",
       "      <td>90.624267</td>\n",
       "    </tr>\n",
       "    <tr>\n",
       "      <th>Large (&gt;2000)</th>\n",
       "      <td>77.477597</td>\n",
       "      <td>81.198674</td>\n",
       "      <td>68.652380</td>\n",
       "      <td>82.125158</td>\n",
       "      <td>56.574046</td>\n",
       "    </tr>\n",
       "  </tbody>\n",
       "</table>\n",
       "</div>"
      ],
      "text/plain": [
       "                    Average Math Score  Average Reading Score  % Passing Math  \\\n",
       "School Size                                                                     \n",
       "Small (<1000)                83.828654              83.974082       93.952484   \n",
       "Medium (1000-2000)           83.372682              83.867989       93.616522   \n",
       "Large (>2000)                77.477597              81.198674       68.652380   \n",
       "\n",
       "                    % Passing Reading  Overall Passing Rate  \n",
       "School Size                                                  \n",
       "Small (<1000)               96.040317             90.136789  \n",
       "Medium (1000-2000)          96.773058             90.624267  \n",
       "Large (>2000)               82.125158             56.574046  "
      ]
     },
     "execution_count": 26,
     "metadata": {},
     "output_type": "execute_result"
    }
   ],
   "source": [
    "#new dataframe\n",
    "scores_by_size = pd.DataFrame({\n",
    "    \"Average Math Score\": avg_math_by_size,\n",
    "    \"Average Reading Score\": avg_read_by_size,\n",
    "    '% Passing Math': pass_math_by_size,\n",
    "    '% Passing Reading': pass_read_by_size,\n",
    "    \"Overall Passing Rate\": overall_by_size\n",
    "            \n",
    "})\n",
    "scores_by_size"
   ]
  },
  {
   "cell_type": "markdown",
   "metadata": {},
   "source": [
    "## Scores by School Type"
   ]
  },
  {
   "cell_type": "markdown",
   "metadata": {},
   "source": [
    "* Perform the same operations as above, based on school type"
   ]
  },
  {
   "cell_type": "code",
   "execution_count": 27,
   "metadata": {},
   "outputs": [],
   "source": [
    "#creating a group based off of bins\n",
    "by_type = school_data_complete.groupby(\"type\")"
   ]
  },
  {
   "cell_type": "code",
   "execution_count": 28,
   "metadata": {},
   "outputs": [],
   "source": [
    "#avg scores\n",
    "avg_math_by_type = by_type['math_score'].mean()\n",
    "avg_read_by_type = by_type['reading_score'].mean()\n",
    "\n",
    "#% passing scores\n",
    "pass_math_by_type = (school_data_complete[school_data_complete['math_score'] >= 70].groupby('type')['Student ID'].count()/by_type['Student ID'].count())*100\n",
    "pass_read_by_type = (school_data_complete[school_data_complete['reading_score'] >= 70].groupby('type')['Student ID'].count()/by_type['Student ID'].count())*100\n",
    "overall_by_type = (school_data_complete[(school_data_complete['reading_score'] >= 70) & (school_data_complete['math_score'] >= 70)].groupby('type')['Student ID'].count()/by_type['Student ID'].count())*100"
   ]
  },
  {
   "cell_type": "code",
   "execution_count": 29,
   "metadata": {},
   "outputs": [
    {
     "data": {
      "text/html": [
       "<div>\n",
       "<style scoped>\n",
       "    .dataframe tbody tr th:only-of-type {\n",
       "        vertical-align: middle;\n",
       "    }\n",
       "\n",
       "    .dataframe tbody tr th {\n",
       "        vertical-align: top;\n",
       "    }\n",
       "\n",
       "    .dataframe thead th {\n",
       "        text-align: right;\n",
       "    }\n",
       "</style>\n",
       "<table border=\"1\" class=\"dataframe\">\n",
       "  <thead>\n",
       "    <tr style=\"text-align: right;\">\n",
       "      <th></th>\n",
       "      <th>Average Math Score</th>\n",
       "      <th>Average Reading Score</th>\n",
       "      <th>% Passing Math</th>\n",
       "      <th>% Passing Reading</th>\n",
       "      <th>Overall Passing Rate</th>\n",
       "    </tr>\n",
       "    <tr>\n",
       "      <th>type</th>\n",
       "      <th></th>\n",
       "      <th></th>\n",
       "      <th></th>\n",
       "      <th></th>\n",
       "      <th></th>\n",
       "    </tr>\n",
       "  </thead>\n",
       "  <tbody>\n",
       "    <tr>\n",
       "      <th>Charter</th>\n",
       "      <td>83.406183</td>\n",
       "      <td>83.902821</td>\n",
       "      <td>93.701821</td>\n",
       "      <td>96.645891</td>\n",
       "      <td>90.560932</td>\n",
       "    </tr>\n",
       "    <tr>\n",
       "      <th>District</th>\n",
       "      <td>76.987026</td>\n",
       "      <td>80.962485</td>\n",
       "      <td>66.518387</td>\n",
       "      <td>80.905249</td>\n",
       "      <td>53.695878</td>\n",
       "    </tr>\n",
       "  </tbody>\n",
       "</table>\n",
       "</div>"
      ],
      "text/plain": [
       "          Average Math Score  Average Reading Score  % Passing Math  \\\n",
       "type                                                                  \n",
       "Charter            83.406183              83.902821       93.701821   \n",
       "District           76.987026              80.962485       66.518387   \n",
       "\n",
       "          % Passing Reading  Overall Passing Rate  \n",
       "type                                               \n",
       "Charter           96.645891             90.560932  \n",
       "District          80.905249             53.695878  "
      ]
     },
     "execution_count": 29,
     "metadata": {},
     "output_type": "execute_result"
    }
   ],
   "source": [
    "#new dataframe\n",
    "scores_by_type = pd.DataFrame({\n",
    "    \"Average Math Score\": avg_math_by_type,\n",
    "    \"Average Reading Score\": avg_read_by_type,\n",
    "    '% Passing Math': pass_math_by_type,\n",
    "    '% Passing Reading': pass_read_by_type,\n",
    "    \"Overall Passing Rate\": overall_by_type\n",
    "            \n",
    "})\n",
    "scores_by_type"
   ]
  },
  {
   "cell_type": "code",
   "execution_count": null,
   "metadata": {},
   "outputs": [],
   "source": []
  }
 ],
 "metadata": {
  "anaconda-cloud": {},
  "kernel_info": {
   "name": "python3"
  },
  "kernelspec": {
   "display_name": "Python 3",
   "language": "python",
   "name": "python3"
  },
  "language_info": {
   "codemirror_mode": {
    "name": "ipython",
    "version": 3
   },
   "file_extension": ".py",
   "mimetype": "text/x-python",
   "name": "python",
   "nbconvert_exporter": "python",
   "pygments_lexer": "ipython3",
   "version": "3.7.6"
  },
  "latex_envs": {
   "LaTeX_envs_menu_present": true,
   "autoclose": false,
   "autocomplete": true,
   "bibliofile": "biblio.bib",
   "cite_by": "apalike",
   "current_citInitial": 1,
   "eqLabelWithNumbers": true,
   "eqNumInitial": 1,
   "hotkeys": {
    "equation": "Ctrl-E",
    "itemize": "Ctrl-I"
   },
   "labels_anchors": false,
   "latex_user_defs": false,
   "report_style_numbering": false,
   "user_envs_cfg": false
  },
  "nteract": {
   "version": "0.8.4"
  }
 },
 "nbformat": 4,
 "nbformat_minor": 1
}
